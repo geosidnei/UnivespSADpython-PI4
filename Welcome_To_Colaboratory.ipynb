{
  "nbformat": 4,
  "nbformat_minor": 0,
  "metadata": {
    "colab": {
      "name": "Welcome To Colaboratory",
      "provenance": [],
      "collapsed_sections": [],
      "toc_visible": true,
      "include_colab_link": true
    },
    "kernelspec": {
      "display_name": "Python 3",
      "name": "python3"
    }
  },
  "cells": [
    {
      "cell_type": "markdown",
      "metadata": {
        "id": "view-in-github",
        "colab_type": "text"
      },
      "source": [
        "<a href=\"https://colab.research.google.com/github/geosidnei/UnivespSADpython-PI4/blob/master/Welcome_To_Colaboratory.ipynb\" target=\"_parent\"><img src=\"https://colab.research.google.com/assets/colab-badge.svg\" alt=\"Open In Colab\"/></a>"
      ]
    },
    {
      "cell_type": "markdown",
      "metadata": {
        "colab_type": "text",
        "id": "5fCEDCU_qrC0"
      },
      "source": [
        "<p><img alt=\"Colaboratory logo\" height=\"45px\" src=\"/img/colab_favicon.ico\" align=\"left\" hspace=\"10px\" vspace=\"0px\"></p>\n",
        "\n",
        "<h1>What is Colaboratory?</h1>\n",
        "\n",
        "Colaboratory, or \"Colab\" for short, allows you to write and execute Python in your browser, with \n",
        "- Zero configuration required\n",
        "- Free access to GPUs\n",
        "- Easy sharing\n",
        "\n",
        "Whether you're a **student**, a **data scientist** or an **AI researcher**, Colab can make your work easier. Watch [Introduction to Colab](https://www.youtube.com/watch?v=inN8seMm7UI) to learn more, or just get started below!"
      ]
    },
    {
      "cell_type": "markdown",
      "metadata": {
        "colab_type": "text",
        "id": "GJBs_flRovLc"
      },
      "source": [
        "## **Getting started**\n",
        "\n",
        "The document you are reading is not a static web page, but an interactive environment called a **Colab notebook** that lets you write and execute code.\n",
        "\n",
        "For example, here is a **code cell** with a short Python script that computes a value, stores it in a variable, and prints the result:"
      ]
    },
    {
      "cell_type": "code",
      "metadata": {
        "colab_type": "code",
        "id": "gJr_9dXGpJ05",
        "colab": {
          "base_uri": "https://localhost:8080/",
          "height": 34
        },
        "outputId": "9f556d03-ec67-4950-a485-cfdba9ddd14d"
      },
      "source": [
        "seconds_in_a_day = 24 * 60 * 60\n",
        "seconds_in_a_day"
      ],
      "execution_count": null,
      "outputs": [
        {
          "output_type": "execute_result",
          "data": {
            "text/plain": [
              "86400"
            ]
          },
          "metadata": {
            "tags": []
          },
          "execution_count": 0
        }
      ]
    },
    {
      "cell_type": "markdown",
      "metadata": {
        "colab_type": "text",
        "id": "2fhs6GZ4qFMx"
      },
      "source": [
        "To execute the code in the above cell, select it with a click and then either press the play button to the left of the code, or use the keyboard shortcut \"Command/Ctrl+Enter\". To edit the code, just click the cell and start editing.\n",
        "\n",
        "Variables that you define in one cell can later be used in other cells:"
      ]
    },
    {
      "cell_type": "code",
      "metadata": {
        "colab_type": "code",
        "id": "-gE-Ez1qtyIA",
        "colab": {
          "base_uri": "https://localhost:8080/",
          "height": 34
        },
        "outputId": "94cb2224-0edf-457b-90b5-0ac3488d8a97"
      },
      "source": [
        "seconds_in_a_week = 7 * seconds_in_a_day\n",
        "seconds_in_a_week"
      ],
      "execution_count": null,
      "outputs": [
        {
          "output_type": "execute_result",
          "data": {
            "text/plain": [
              "604800"
            ]
          },
          "metadata": {
            "tags": []
          },
          "execution_count": 0
        }
      ]
    },
    {
      "cell_type": "markdown",
      "metadata": {
        "colab_type": "text",
        "id": "lSrWNr3MuFUS"
      },
      "source": [
        "Colab notebooks allow you to combine **executable code** and **rich text** in a single document, along with **images**, **HTML**, **LaTeX** and more. When you create your own Colab notebooks, they are stored in your Google Drive account. You can easily share your Colab notebooks with co-workers or friends, allowing them to comment on your notebooks or even edit them. To learn more, see [Overview of Colab](/notebooks/basic_features_overview.ipynb). To create a new Colab notebook you can use the File menu above, or use the following link: [create a new Colab notebook](http://colab.research.google.com#create=true).\n",
        "\n",
        "Colab notebooks are Jupyter notebooks that are hosted by Colab. To learn more about the Jupyter project, see [jupyter.org](https://www.jupyter.org)."
      ]
    },
    {
      "cell_type": "markdown",
      "metadata": {
        "colab_type": "text",
        "id": "UdRyKR44dcNI"
      },
      "source": [
        "## Data science\n",
        "\n",
        "With Colab you can harness the full power of popular Python libraries to analyze and visualize data. The code cell below uses **numpy** to generate some random data, and uses **matplotlib** to visualize it. To edit the code, just click the cell and start editing."
      ]
    },
    {
      "cell_type": "code",
      "metadata": {
        "colab_type": "code",
        "id": "C4HZx7Gndbrh",
        "colab": {
          "base_uri": "https://localhost:8080/",
          "height": 281
        },
        "outputId": "46abc637-6abd-41b2-9bba-80a7ae992e06"
      },
      "source": [
        "import numpy as np\n",
        "from matplotlib import pyplot as plt\n",
        "\n",
        "ys = 200 + np.random.randn(100)\n",
        "x = [x for x in range(len(ys))]\n",
        "\n",
        "plt.plot(x, ys, '-')\n",
        "plt.fill_between(x, ys, 195, where=(ys > 195), facecolor='g', alpha=0.6)\n",
        "\n",
        "plt.title(\"Sample Visualization\")\n",
        "plt.show()"
      ],
      "execution_count": null,
      "outputs": [
        {
          "output_type": "display_data",
          "data": {
            "image/png": "[encoded data removed]",
            "text/plain": [
              "<Figure size 432x288 with 1 Axes>"
            ]
          },
          "metadata": {
            "tags": []
          }
        }
      ]
    },
    {
      "cell_type": "markdown",
      "metadata": {
        "colab_type": "text",
        "id": "4_kCnsPUqS6o"
      },
      "source": [
        "You can import your own data into Colab notebooks from your Google Drive account, including from spreadsheets, as well as from Github and many other sources. To learn more about importing data, and how Colab can be used for data science, see the links below under [Working with Data](#working-with-data)."
      ]
    },
    {
      "cell_type": "markdown",
      "metadata": {
        "colab_type": "text",
        "id": "OwuxHmxllTwN"
      },
      "source": [
        "## Machine learning\n",
        "\n",
        "With Colab you can import an image dataset, train an image classifier on it, and evaluate the model, all in just [a few lines of code](https://colab.research.google.com/github/tensorflow/docs/blob/master/site/en/tutorials/quickstart/beginner.ipynb). Colab notebooks execute code on Google's cloud servers, meaning you can leverage the power of Google hardware, including [GPUs and TPUs](#using-accelerated-hardware), regardless of the power of your machine. All you need is a browser."
      ]
    },
    {
      "cell_type": "markdown",
      "metadata": {
        "colab_type": "text",
        "id": "ufxBm1yRnruN"
      },
      "source": [
        "Colab is used extensively in the machine learning community with applications including:\n",
        "- Getting started with TensorFlow\n",
        "- Developing and training neural networks\n",
        "- Experimenting with TPUs\n",
        "- Disseminating AI research\n",
        "- Creating tutorials\n",
        "\n",
        "To see sample Colab notebooks that demonstrate machine learning applications, see the [machine learning examples](#machine-learning-examples) below."
      ]
    },
    {
      "cell_type": "markdown",
      "metadata": {
        "colab_type": "text",
        "id": "-Rh3-Vt9Nev9"
      },
      "source": [
        "## More Resources\n",
        "\n",
        "### Working with Notebooks in Colab\n",
        "- [Overview of Colaboratory](/notebooks/basic_features_overview.ipynb)\n",
        "- [Guide to Markdown](/notebooks/markdown_guide.ipynb)\n",
        "- [Importing libraries and installing dependencies](/notebooks/snippets/importing_libraries.ipynb)\n",
        "- [Saving and loading notebooks in GitHub](https://colab.research.google.com/github/googlecolab/colabtools/blob/master/notebooks/colab-github-demo.ipynb)\n",
        "- [Interactive forms](/notebooks/forms.ipynb)\n",
        "- [Interactive widgets](/notebooks/widgets.ipynb)\n",
        "- <img src=\"/img/new.png\" height=\"20px\" align=\"left\" hspace=\"4px\" alt=\"New\"></img>\n",
        " [TensorFlow 2 in Colab](/notebooks/tensorflow_version.ipynb)\n",
        "\n",
        "<a name=\"working-with-data\"></a>\n",
        "### Working with Data\n",
        "- [Loading data: Drive, Sheets, and Google Cloud Storage](/notebooks/io.ipynb) \n",
        "- [Charts: visualizing data](/notebooks/charts.ipynb)\n",
        "- [Getting started with BigQuery](/notebooks/bigquery.ipynb)\n",
        "\n",
        "### Machine Learning Crash Course\n",
        "These are a few of the notebooks from Google's online Machine Learning course. See the [full course website](https://developers.google.com/machine-learning/crash-course/) for more.\n",
        "- [Intro to Pandas](/notebooks/mlcc/intro_to_pandas.ipynb)\n",
        "- [Tensorflow concepts](/notebooks/mlcc/tensorflow_programming_concepts.ipynb)\n",
        "- [First steps with TensorFlow](/notebooks/mlcc/first_steps_with_tensor_flow.ipynb)\n",
        "- [Intro to neural nets](/notebooks/mlcc/intro_to_neural_nets.ipynb)\n",
        "- [Intro to sparse data and embeddings](/notebooks/mlcc/intro_to_sparse_data_and_embeddings.ipynb)\n",
        "\n",
        "<a name=\"using-accelerated-hardware\"></a>\n",
        "### Using Accelerated Hardware\n",
        "- [TensorFlow with GPUs](/notebooks/gpu.ipynb)\n",
        "- [TensorFlow with TPUs](/notebooks/tpu.ipynb)"
      ]
    },
    {
      "cell_type": "markdown",
      "metadata": {
        "colab_type": "text",
        "id": "P-H6Lw1vyNNd"
      },
      "source": [
        "<a name=\"machine-learning-examples\"></a>\n",
        "\n",
        "## Machine Learning Examples\n",
        "\n",
        "To see end-to-end examples of the interactive machine learning analyses that Colaboratory makes possible, check out these  tutorials using models from [TensorFlow Hub](https://tfhub.dev).\n",
        "\n",
        "A few featured examples:\n",
        "\n",
        "- [Retraining an Image Classifier](https://tensorflow.org/hub/tutorials/tf2_image_retraining): Build a Keras model on top of a pre-trained image classifier to distinguish flowers.\n",
        "- [Text Classification](https://tensorflow.org/hub/tutorials/tf2_text_classification): Classify IMDB movie reviews as either *positive* or *negative*.\n",
        "- [Style Transfer](https://tensorflow.org/hub/tutorials/tf2_arbitrary_image_stylization): Use deep learning to transfer style between images.\n",
        "- [Multilingual Universal Sentence Encoder Q&A](https://tensorflow.org/hub/tutorials/retrieval_with_tf_hub_universal_encoder_qa): Use a machine learning model to answer questions from the SQuAD dataset.\n",
        "- [Video Interpolation](https://tensorflow.org/hub/tutorials/tweening_conv3d): Predict what happened in a video between the first and the last frame.\n"
      ]
    },
    {
      "cell_type": "code",
      "metadata": {
        "id": "TKm_Wx3GtSDb",
        "colab_type": "code",
        "colab": {
          "base_uri": "https://localhost:8080/",
          "height": 1000
        },
        "outputId": "ea77e91e-1226-4aff-e243-3ab38cbaf85d"
      },
      "source": [
        "# -*- coding: utf-8 -*-\n",
        "\"\"\"\n",
        "Created on Mon Dec 16 16:20:05 2019\n",
        "SadFotovoltaicoAlphaVersion\n",
        "@author: sidnei lopes ribeiro\n",
        "\n",
        "Com base em dados de Boreal Solar pesquisados por Mario Benassi Junior\n",
        "e em dados da Elektro S.A., pesquisados por Luiz Carlos da Silva\n",
        "\"\"\"\n",
        "\n",
        "# import tkinter as tk\n",
        "import matplotlib.pyplot as plt\n",
        "\n",
        "## Entrada de dados ##\n",
        "'''\n",
        "Variáveis - Área: m2; \n",
        "            Potência: Kw/h; \n",
        "            Conta de Energia: R$.\n",
        "'''\n",
        "\n",
        "print (\" \")\n",
        "print (\"Esclarecimento - Os dados vieram das empresa Boreal Solar (Mario) e Elektro (Luiz)\")\n",
        "print (\"'Fins estritamente educacionais'\") \n",
        "print (\"'Não somos seus representantes comerciais!'\")\n",
        "\n",
        "## Declaração e inicialização de variáveis\n",
        "inv1 = 0.0 # capital investido na empresa 1 - boreal solar\n",
        "inv2 = 0.0 # capital investido na empresa 2 - Elektro - S.A\n",
        "conta = 0.0\n",
        "kwp = 0.0 # Kilowatt hora pico (potência do sistema)\n",
        "numero1 = 0 # número de painéis\n",
        "numero2 = 0\n",
        "# Empresa 1# \n",
        "SEG_1 = 1.8105 # margem de segurança da empresa 1 (81,05%)\n",
        "SEG_2 = 2.64 # margem de segurança da empresa 2 (164%)\n",
        "PAINEL_1 = 0.340 # potência em watts (340 w)\n",
        "PAINEL_2 = 0.330 # potência em watts (330 w)\n",
        "PRECO_1 = 1117.370892\n",
        "PRECO_2 = 1071.84375 # preço de cada painel solar\n",
        "AREA = 2.64 # área de cada painel ; 2,64 m2\n",
        "\n",
        "#n Entrada dos dados#\n",
        "\n",
        "potencia = input(\"Qual é a potência do sistema em KW pico/hora? \")\n",
        "potencia = int(potencia)\n",
        "area_2 = input(\"Qual é a área total disponível em m2? \")\n",
        "area_2 = int (area_2)\n",
        "print (\" \")\n",
        "print (\"Agora, para saber o tempo no qual o sistema se pagará... \")\n",
        "conta = input (\"... digite o valor da conta de energia deste estabelecimento: \")\n",
        "conta = int(conta)\n",
        "print (\" \")\n",
        "\n",
        "# Cálculos\n",
        "kwp_1 = potencia * SEG_1\n",
        "kwp_2 = potencia * SEG_2\n",
        "numero1 = kwp_1/PAINEL_1\n",
        "numero2 = kwp_2/PAINEL_2\n",
        "cobertura1 = AREA * numero1\n",
        "cobertura2 = AREA * numero2\n",
        "inv1 = PRECO_1 * numero1\n",
        "inv2 = PRECO_2 * numero2\n",
        "payback_meses1 =  inv1/conta\n",
        "payback_ano1 = payback_meses1/12\n",
        "payback_meses2 =  inv2/conta\n",
        "payback_ano2 = payback_meses2/12\n",
        "\n",
        "## Apresentação de resultados\n",
        "\n",
        "if cobertura1 and cobertura2 < area_2:\n",
        "   print (\"Resultados para a empresa Boreal Solar\") \n",
        "   print (\"A área coberta será de .......... %.2f\"% (cobertura1), \"metros\")\n",
        "   print (\"A potência do sistema será de ... %.2f\"% (kwp_1), \"Kilowatt/hora pico\")\n",
        "   print (\"O valor a investir será de R$ %.2f\"% (inv1))\n",
        "   print (\"O investimento será pago em %.1f\"% (payback_meses1), \"meses.\")\n",
        "   print (\"Isso equivale a %.1f\"% (payback_ano1), \"anos.\")   \n",
        "   print (\"\")\n",
        "   print (\"Resultados para a Elektro S.A.\") \n",
        "   print (\"A área coberta será de .......... %.2f\"% (cobertura2), \"metros\")\n",
        "   print (\"A potência do sistema será de ... %.2f\"% (kwp_2), \"Kilowatt/hora pico\")\n",
        "   print (\"O valor a investir será de R$ %.2f\"% (inv2))\n",
        "   print (\"O investimento será pago em %.1f\"% (payback_meses2), \"meses.\")\n",
        "   print (\"Isso equivale a %.1f\"% (payback_ano2), \"anos.\")   \n",
        "   print (\"\")\n",
        "else:\n",
        "   print (\"A área é insuficiente para o projeto.\")\n",
        "   print (\"Por favor, refaça seus cálculos\")\n",
        "\n",
        "# Plotagem dos gráficos\n",
        "# Apresentação dos mesmos dados em formato gráfico\"   \n",
        "\n",
        "# 1. Gráfico da área de cobertura\n",
        "x = [1, 2]\n",
        "y = [cobertura1, cobertura2]\n",
        "     \n",
        "#títulos do gráfico\n",
        "titulo = \"1. Área de Cobertura dos painéis fotovoltaicos (m2)\"\n",
        "eixox = \"1. Boreal Solar, 2. Elektro\"\n",
        "eixoy = \"(m2)\"\n",
        "\n",
        "#impresssão das legendas\n",
        "plt.title(titulo)\n",
        "plt.xlabel(eixox)\n",
        "plt.ylabel(eixoy)\n",
        "\n",
        "plt.bar(x,y)\n",
        "plt.show()   \n",
        "\n",
        "\n",
        "# 2. Gráfico da geração em KW pico\n",
        "x = [1, 2]\n",
        "y = [kwp_1, kwp_2]\n",
        "titulo = \"2. Geração máxima em Kilowatt pico - KWp\"\n",
        "eixox = \"1. Boreal Solar, 2. Elektro\"\n",
        "eixoy = \"(KW pico)\"\n",
        "\n",
        "#impresssão das legendas\n",
        "plt.title(titulo)\n",
        "plt.xlabel(eixox)\n",
        "plt.ylabel(eixoy)\n",
        "\n",
        "plt.bar(x,y)\n",
        "plt.show()   \n",
        "\n",
        "# 3. Gráfico dos investimentos (R$)\n",
        "x = [1, 2]\n",
        "y = [inv1, inv2]\n",
        "titulo = \"3. Investimentos em Reais (R$)\"\n",
        "eixox = \"1. Boreal Solar, 2. Elektro\"\n",
        "eixoy = \"(R$)\"\n",
        "\n",
        "#impresssão das legendas\n",
        "plt.title(titulo)\n",
        "plt.xlabel(eixox)\n",
        "plt.ylabel(eixoy)\n",
        "\n",
        "plt.bar(x,y)\n",
        "plt.show()   \n",
        "\n",
        "# 4. Gráfico do Payback simples (tempo em meses)\n",
        "x = [1, 2]\n",
        "y = [payback_meses1, payback_meses2] \n",
        "titulo = \"4. Payback Simples - tempo em que o investimento se paga (em meses)\"\n",
        "eixox = \"1 e 2. Boreal Solar, 3 e 4. Elektro\"\n",
        "eixoy = \"(meses)\"\n",
        "\n",
        "#impresssão das legendas\n",
        "plt.title(titulo)\n",
        "plt.xlabel(eixox)\n",
        "plt.ylabel(eixoy)\n",
        "\n",
        "plt.bar(x,y)\n",
        "plt.show() \n",
        "\n",
        "# 5. Gráfico do Payback simples (em anos)\n",
        "x = [1, 2]\n",
        "y = [payback_ano1, payback_ano2]  \n",
        "titulo = \"5. Payback Simples: tempo em que o investimento se paga (em anos)\"\n",
        "eixox = \"1. Boreal Solar, 2. Elektro\"\n",
        "eixoy = \"(anos)\"\n",
        "\n",
        "#impresssão das legendas\n",
        "plt.title(titulo)\n",
        "plt.xlabel(eixox)\n",
        "plt.ylabel(eixoy)\n",
        "\n",
        "plt.bar(x,y)\n",
        "plt.show()\n",
        "\n",
        "print (\"\")\n",
        "print (\"Informação de suporte à decisão do gestor ou proprietário: \")\n",
        "print (\"\")\n",
        "print (\"O sistema da empresa Elektro S.A., devido ao seu superdimensionamento,\")\n",
        "print (\"também propiciará um fornecimento de, no máximo, 65,6 KWp à rede elétrica\")\n",
        "print (\"que poderá abastecer as residências vizinhas de eletricidade e\")\n",
        "print (\"se reverter em renda à escola, caso a legislação continue como está.\")\n"
      ],
      "execution_count": 1,
      "outputs": [
        {
          "output_type": "stream",
          "text": [
            " \n",
            "Esclarecimento - Os dados vieram das empresa Boreal Solar (Mario) e Elektro (Luiz)\n",
            "'Fins estritamente educacionais'\n",
            "'Não somos seus representantes comerciais!'\n",
            "Qual é a potência do sistema em KW pico/hora? 300\n",
            "Qual é a área total disponível em m2? 600\n",
            " \n",
            "Agora, para saber o tempo no qual o sistema se pagará... \n",
            "... digite o valor da conta de energia deste estabelecimento: 2500\n",
            " \n",
            "A área é insuficiente para o projeto.\n",
            "Por favor, refaça seus cálculos\n"
          ],
          "name": "stdout"
        },
        {
          "output_type": "display_data",
          "data": {
            "image/png": "[encoded data removed]",
            "text/plain": [
              "<Figure size 432x288 with 1 Axes>"
            ]
          },
          "metadata": {
            "tags": [],
            "needs_background": "light"
          }
        },
        {
          "output_type": "display_data",
          "data": {
            "image/png": "[encoded data removed]",
            "text/plain": [
              "<Figure size 432x288 with 1 Axes>"
            ]
          },
          "metadata": {
            "tags": [],
            "needs_background": "light"
          }
        },
        {
          "output_type": "display_data",
          "data": {
            "image/png": "[encoded data removed]",
            "text/plain": [
              "<Figure size 432x288 with 1 Axes>"
            ]
          },
          "metadata": {
            "tags": [],
            "needs_background": "light"
          }
        },
        {
          "output_type": "display_data",
          "data": {
            "image/png": "[encoded data removed]",
            "text/plain": [
              "<Figure size 432x288 with 1 Axes>"
            ]
          },
          "metadata": {
            "tags": [],
            "needs_background": "light"
          }
        },
        {
          "output_type": "display_data",
          "data": {
            "image/png": "[encoded data removed]",
            "text/plain": [
              "<Figure size 432x288 with 1 Axes>"
            ]
          },
          "metadata": {
            "tags": [],
            "needs_background": "light"
          }
        },
        {
          "output_type": "stream",
          "text": [
            "\n",
            "Informação de suporte à decisão do gestor ou proprietário: \n",
            "\n",
            "O sistema da empresa Elektro S.A., devido ao seu superdimensionamento,\n",
            "também propiciará um fornecimento de, no máximo, 65,6 KWp à rede elétrica\n",
            "que poderá abastecer as residências vizinhas de eletricidade e\n",
            "se reverter em renda à escola, caso a legislação continue como está.\n"
          ],
          "name": "stdout"
        }
      ]
    }
  ]
}